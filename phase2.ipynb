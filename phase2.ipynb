{
  "nbformat": 4,
  "nbformat_minor": 0,
  "metadata": {
    "colab": {
      "provenance": [],
      "gpuType": "T4"
    },
    "kernelspec": {
      "name": "python3",
      "display_name": "Python 3"
    },
    "language_info": {
      "name": "python"
    },
    "accelerator": "GPU"
  },
  "cells": [
    {
      "cell_type": "code",
      "execution_count": 1,
      "metadata": {
        "id": "ul5fYOcpGuYb"
      },
      "outputs": [],
      "source": [
        "import os\n",
        "import torch\n",
        "import torchvision.models as models\n",
        "import torchvision.transforms as transforms\n",
        "from torchvision.datasets import ImageFolder\n",
        "from torch.utils.data import DataLoader, random_split\n",
        "from torch import nn\n",
        "from torchvision.models import resnet18, ResNet18_Weights\n",
        "from sklearn.model_selection import train_test_split\n",
        "from sklearn.svm import SVC\n",
        "from sklearn.linear_model import LogisticRegression\n",
        "from sklearn.ensemble import RandomForestClassifier\n",
        "from sklearn.neighbors import KNeighborsClassifier\n",
        "from sklearn.metrics import classification_report, accuracy_score\n",
        "import pandas as pd\n",
        "from sklearn.manifold import TSNE\n",
        "from sklearn.decomposition import PCA\n",
        "import matplotlib.pyplot as plt\n",
        "import numpy as np\n",
        "import os\n",
        "from sklearn.model_selection import train_test_split\n",
        "from torchvision import datasets, transforms\n",
        "from torch.utils.data import DataLoader, Subset\n",
        "from sklearn.neural_network import MLPClassifier\n",
        "from sklearn.tree import DecisionTreeClassifier\n",
        "from sklearn.preprocessing import StandardScaler\n",
        "import joblib"
      ]
    },
    {
      "cell_type": "code",
      "source": [
        "device = torch.device(\"cuda\" if torch.cuda.is_available() else \"cpu\")\n",
        "print(\"Device:\", device)"
      ],
      "metadata": {
        "colab": {
          "base_uri": "https://localhost:8080/"
        },
        "id": "FmJI_73QH9DE",
        "outputId": "b82a9d48-074b-454e-9bca-b661b31c014a"
      },
      "execution_count": 2,
      "outputs": [
        {
          "output_type": "stream",
          "name": "stdout",
          "text": [
            "Device: cuda\n"
          ]
        }
      ]
    },
    {
      "cell_type": "code",
      "source": [
        "from google.colab import files\n",
        "uploaded = files.upload()"
      ],
      "metadata": {
        "colab": {
          "base_uri": "https://localhost:8080/",
          "height": 73
        },
        "id": "iYv1KK0e6A6g",
        "outputId": "ab660f91-54ef-4bb0-c4d8-93e3836449f5"
      },
      "execution_count": 3,
      "outputs": [
        {
          "output_type": "display_data",
          "data": {
            "text/plain": [
              "<IPython.core.display.HTML object>"
            ],
            "text/html": [
              "\n",
              "     <input type=\"file\" id=\"files-10636f6b-6d69-48a5-8ee8-fc5c5fdd25cb\" name=\"files[]\" multiple disabled\n",
              "        style=\"border:none\" />\n",
              "     <output id=\"result-10636f6b-6d69-48a5-8ee8-fc5c5fdd25cb\">\n",
              "      Upload widget is only available when the cell has been executed in the\n",
              "      current browser session. Please rerun this cell to enable.\n",
              "      </output>\n",
              "      <script>// Copyright 2017 Google LLC\n",
              "//\n",
              "// Licensed under the Apache License, Version 2.0 (the \"License\");\n",
              "// you may not use this file except in compliance with the License.\n",
              "// You may obtain a copy of the License at\n",
              "//\n",
              "//      http://www.apache.org/licenses/LICENSE-2.0\n",
              "//\n",
              "// Unless required by applicable law or agreed to in writing, software\n",
              "// distributed under the License is distributed on an \"AS IS\" BASIS,\n",
              "// WITHOUT WARRANTIES OR CONDITIONS OF ANY KIND, either express or implied.\n",
              "// See the License for the specific language governing permissions and\n",
              "// limitations under the License.\n",
              "\n",
              "/**\n",
              " * @fileoverview Helpers for google.colab Python module.\n",
              " */\n",
              "(function(scope) {\n",
              "function span(text, styleAttributes = {}) {\n",
              "  const element = document.createElement('span');\n",
              "  element.textContent = text;\n",
              "  for (const key of Object.keys(styleAttributes)) {\n",
              "    element.style[key] = styleAttributes[key];\n",
              "  }\n",
              "  return element;\n",
              "}\n",
              "\n",
              "// Max number of bytes which will be uploaded at a time.\n",
              "const MAX_PAYLOAD_SIZE = 100 * 1024;\n",
              "\n",
              "function _uploadFiles(inputId, outputId) {\n",
              "  const steps = uploadFilesStep(inputId, outputId);\n",
              "  const outputElement = document.getElementById(outputId);\n",
              "  // Cache steps on the outputElement to make it available for the next call\n",
              "  // to uploadFilesContinue from Python.\n",
              "  outputElement.steps = steps;\n",
              "\n",
              "  return _uploadFilesContinue(outputId);\n",
              "}\n",
              "\n",
              "// This is roughly an async generator (not supported in the browser yet),\n",
              "// where there are multiple asynchronous steps and the Python side is going\n",
              "// to poll for completion of each step.\n",
              "// This uses a Promise to block the python side on completion of each step,\n",
              "// then passes the result of the previous step as the input to the next step.\n",
              "function _uploadFilesContinue(outputId) {\n",
              "  const outputElement = document.getElementById(outputId);\n",
              "  const steps = outputElement.steps;\n",
              "\n",
              "  const next = steps.next(outputElement.lastPromiseValue);\n",
              "  return Promise.resolve(next.value.promise).then((value) => {\n",
              "    // Cache the last promise value to make it available to the next\n",
              "    // step of the generator.\n",
              "    outputElement.lastPromiseValue = value;\n",
              "    return next.value.response;\n",
              "  });\n",
              "}\n",
              "\n",
              "/**\n",
              " * Generator function which is called between each async step of the upload\n",
              " * process.\n",
              " * @param {string} inputId Element ID of the input file picker element.\n",
              " * @param {string} outputId Element ID of the output display.\n",
              " * @return {!Iterable<!Object>} Iterable of next steps.\n",
              " */\n",
              "function* uploadFilesStep(inputId, outputId) {\n",
              "  const inputElement = document.getElementById(inputId);\n",
              "  inputElement.disabled = false;\n",
              "\n",
              "  const outputElement = document.getElementById(outputId);\n",
              "  outputElement.innerHTML = '';\n",
              "\n",
              "  const pickedPromise = new Promise((resolve) => {\n",
              "    inputElement.addEventListener('change', (e) => {\n",
              "      resolve(e.target.files);\n",
              "    });\n",
              "  });\n",
              "\n",
              "  const cancel = document.createElement('button');\n",
              "  inputElement.parentElement.appendChild(cancel);\n",
              "  cancel.textContent = 'Cancel upload';\n",
              "  const cancelPromise = new Promise((resolve) => {\n",
              "    cancel.onclick = () => {\n",
              "      resolve(null);\n",
              "    };\n",
              "  });\n",
              "\n",
              "  // Wait for the user to pick the files.\n",
              "  const files = yield {\n",
              "    promise: Promise.race([pickedPromise, cancelPromise]),\n",
              "    response: {\n",
              "      action: 'starting',\n",
              "    }\n",
              "  };\n",
              "\n",
              "  cancel.remove();\n",
              "\n",
              "  // Disable the input element since further picks are not allowed.\n",
              "  inputElement.disabled = true;\n",
              "\n",
              "  if (!files) {\n",
              "    return {\n",
              "      response: {\n",
              "        action: 'complete',\n",
              "      }\n",
              "    };\n",
              "  }\n",
              "\n",
              "  for (const file of files) {\n",
              "    const li = document.createElement('li');\n",
              "    li.append(span(file.name, {fontWeight: 'bold'}));\n",
              "    li.append(span(\n",
              "        `(${file.type || 'n/a'}) - ${file.size} bytes, ` +\n",
              "        `last modified: ${\n",
              "            file.lastModifiedDate ? file.lastModifiedDate.toLocaleDateString() :\n",
              "                                    'n/a'} - `));\n",
              "    const percent = span('0% done');\n",
              "    li.appendChild(percent);\n",
              "\n",
              "    outputElement.appendChild(li);\n",
              "\n",
              "    const fileDataPromise = new Promise((resolve) => {\n",
              "      const reader = new FileReader();\n",
              "      reader.onload = (e) => {\n",
              "        resolve(e.target.result);\n",
              "      };\n",
              "      reader.readAsArrayBuffer(file);\n",
              "    });\n",
              "    // Wait for the data to be ready.\n",
              "    let fileData = yield {\n",
              "      promise: fileDataPromise,\n",
              "      response: {\n",
              "        action: 'continue',\n",
              "      }\n",
              "    };\n",
              "\n",
              "    // Use a chunked sending to avoid message size limits. See b/62115660.\n",
              "    let position = 0;\n",
              "    do {\n",
              "      const length = Math.min(fileData.byteLength - position, MAX_PAYLOAD_SIZE);\n",
              "      const chunk = new Uint8Array(fileData, position, length);\n",
              "      position += length;\n",
              "\n",
              "      const base64 = btoa(String.fromCharCode.apply(null, chunk));\n",
              "      yield {\n",
              "        response: {\n",
              "          action: 'append',\n",
              "          file: file.name,\n",
              "          data: base64,\n",
              "        },\n",
              "      };\n",
              "\n",
              "      let percentDone = fileData.byteLength === 0 ?\n",
              "          100 :\n",
              "          Math.round((position / fileData.byteLength) * 100);\n",
              "      percent.textContent = `${percentDone}% done`;\n",
              "\n",
              "    } while (position < fileData.byteLength);\n",
              "  }\n",
              "\n",
              "  // All done.\n",
              "  yield {\n",
              "    response: {\n",
              "      action: 'complete',\n",
              "    }\n",
              "  };\n",
              "}\n",
              "\n",
              "scope.google = scope.google || {};\n",
              "scope.google.colab = scope.google.colab || {};\n",
              "scope.google.colab._files = {\n",
              "  _uploadFiles,\n",
              "  _uploadFilesContinue,\n",
              "};\n",
              "})(self);\n",
              "</script> "
            ]
          },
          "metadata": {}
        },
        {
          "output_type": "stream",
          "name": "stdout",
          "text": [
            "Saving resnet18-f37072fd.pth to resnet18-f37072fd.pth\n"
          ]
        }
      ]
    },
    {
      "cell_type": "code",
      "source": [
        "from google.colab import drive\n",
        "drive.mount('/content/drive')"
      ],
      "metadata": {
        "colab": {
          "base_uri": "https://localhost:8080/"
        },
        "id": "oVsGFT4CIHGa",
        "outputId": "c9e72652-6a1c-4180-c01b-a10b5c4be81e"
      },
      "execution_count": 4,
      "outputs": [
        {
          "output_type": "stream",
          "name": "stdout",
          "text": [
            "Mounted at /content/drive\n"
          ]
        }
      ]
    },
    {
      "cell_type": "code",
      "source": [
        "dataset_path = '/content/drive/MyDrive/dataset3'\n"
      ],
      "metadata": {
        "id": "EWTdlreLKBhO"
      },
      "execution_count": 5,
      "outputs": []
    },
    {
      "cell_type": "code",
      "source": [
        "from sklearn.model_selection import StratifiedKFold\n",
        "from sklearn.preprocessing import StandardScaler\n",
        "from sklearn.linear_model import LogisticRegression\n",
        "from sklearn.svm import SVC\n",
        "from sklearn.tree import DecisionTreeClassifier\n",
        "from sklearn.ensemble import RandomForestClassifier\n",
        "from sklearn.metrics import accuracy_score\n",
        "import numpy as np\n",
        "def right_way_stacking(X_train, y_train, X_test, y_test, n_splits=5):\n",
        "    base_models = {\n",
        "        \"SVM\": SVC(probability=True, random_state=42),\n",
        "        \"DecisionTree\": DecisionTreeClassifier(random_state=42),\n",
        "        \"LogisticRegression\": LogisticRegression(max_iter=1000, random_state=42),\n",
        "        \"RandomForest\": RandomForestClassifier(n_estimators=100, random_state=42)\n",
        "    }\n",
        "\n",
        "    skf = StratifiedKFold(n_splits=n_splits, shuffle=True, random_state=42)\n",
        "\n",
        "    meta_train = np.zeros((X_train.shape[0], sum([len(np.unique(y_train))] * len(base_models))))\n",
        "    meta_test = np.zeros((X_test.shape[0], sum([len(np.unique(y_train))] * len(base_models))))\n",
        "\n",
        "    for idx, (name, model) in enumerate(base_models.items()):\n",
        "        temp_test = np.zeros((X_test.shape[0], len(np.unique(y_train)), n_splits))\n",
        "        meta_col_start = idx * len(np.unique(y_train))\n",
        "        meta_col_end = meta_col_start + len(np.unique(y_train))\n",
        "\n",
        "        for fold_idx, (train_idx, val_idx) in enumerate(skf.split(X_train, y_train)):\n",
        "            X_tr, X_val = X_train[train_idx], X_train[val_idx]\n",
        "            y_tr, y_val = y_train[train_idx], y_train[val_idx]\n",
        "\n",
        "            model.fit(X_tr, y_tr)\n",
        "\n",
        "            meta_train[val_idx, meta_col_start:meta_col_end] = model.predict_proba(X_val)\n",
        "            temp_test[:, :, fold_idx] = model.predict_proba(X_test)\n",
        "\n",
        "        meta_test[:, meta_col_start:meta_col_end] = np.mean(temp_test, axis=2)\n",
        "\n",
        "    meta_model = LogisticRegression(max_iter=1000, random_state=42)\n",
        "    meta_model.fit(meta_train, y_train)\n",
        "\n",
        "    y_pred = meta_model.predict(meta_test)\n",
        "    acc = accuracy_score(y_test, y_pred)\n",
        "    print(f\"Stacked Model Accuracy (Right Way): {acc:.4f}\")\n",
        "    return meta_model, y_pred ,meta_test"
      ],
      "metadata": {
        "id": "PUTNvOHrq5J0"
      },
      "execution_count": 6,
      "outputs": []
    },
    {
      "cell_type": "code",
      "source": [
        "from sklearn.metrics import (\n",
        "    accuracy_score,\n",
        "    precision_score,\n",
        "    recall_score,\n",
        "    f1_score,\n",
        "    classification_report,\n",
        "    confusion_matrix,\n",
        "    ConfusionMatrixDisplay\n",
        ")\n",
        "import matplotlib.pyplot as plt\n",
        "\n",
        "def evaluate_model_performance(meta_model, X_test_meta, y_test, class_labels=None, title=\"Confusion Matrix\"):\n",
        "    y_pred = meta_model.predict(X_test_meta)\n",
        "\n",
        "    acc = accuracy_score(y_test, y_pred)\n",
        "    precision = precision_score(y_test, y_pred, average='weighted')\n",
        "    recall = recall_score(y_test, y_pred, average='weighted')\n",
        "    f1 = f1_score(y_test, y_pred, average='weighted')\n",
        "\n",
        "    print(f\"Accuracy: {acc:.4f}\")\n",
        "    print(f\"Precision: {precision:.4f}\")\n",
        "    print(f\"Recall: {recall:.4f}\")\n",
        "    print(f\"F1 Score: {f1:.4f}\")\n",
        "\n",
        "    print(\"\\nClassification Report:\\n\")\n",
        "    print(classification_report(y_test, y_pred))\n",
        "\n",
        "    cm = confusion_matrix(y_test, y_pred)\n",
        "\n",
        "    disp = ConfusionMatrixDisplay(confusion_matrix=cm, display_labels=class_labels)\n",
        "    disp.plot(cmap='Blues', values_format='d')\n",
        "    plt.title(title)\n",
        "    plt.show()"
      ],
      "metadata": {
        "id": "jKjkvFh-nYRL"
      },
      "execution_count": 7,
      "outputs": []
    },
    {
      "cell_type": "code",
      "source": [
        "def get_resnet_stages(weights_path=None):\n",
        "    if weights_path is None:\n",
        "        model = resnet18(weights=ResNet18_Weights.DEFAULT)\n",
        "    else:\n",
        "        model = resnet18()\n",
        "        state_dict = torch.load(weights_path, weights_only=True)\n",
        "        model.load_state_dict(state_dict)\n",
        "\n",
        "    model.eval()\n",
        "\n",
        "    stages = {\n",
        "        \"initial\": nn.Sequential(  # low-level features\n",
        "            model.conv1,\n",
        "            model.bn1,\n",
        "            model.relu\n",
        "        ),\n",
        "        \"mid\": nn.Sequential(      # mid-level features\n",
        "            model.conv1,\n",
        "            model.bn1,\n",
        "            model.relu,\n",
        "            model.maxpool,\n",
        "            model.layer1,\n",
        "            model.layer2\n",
        "        ),\n",
        "        \"high\": nn.Sequential(     # high-level features\n",
        "            model.conv1,\n",
        "            model.bn1,\n",
        "            model.relu,\n",
        "            model.maxpool,\n",
        "            model.layer1,\n",
        "            model.layer2,\n",
        "            model.layer3,\n",
        "            model.layer4,\n",
        "            model.avgpool\n",
        "        )\n",
        "    }\n",
        "    return stages\n",
        "\n",
        "def extract_features(model_stage, dataloader):\n",
        "\n",
        "    print(f\"Using device: {device}\")\n",
        "\n",
        "    model_stage = model_stage.to(device)\n",
        "    features = []\n",
        "    labels = []\n",
        "\n",
        "    with torch.no_grad():\n",
        "        for images, targets in dataloader:\n",
        "            images = images.to(device)\n",
        "\n",
        "            output = model_stage(images)\n",
        "            output = output.view(output.size(0), -1)\n",
        "\n",
        "            features.append(output.cpu())\n",
        "            labels.append(targets)\n",
        "\n",
        "    features = torch.cat(features, dim=0)\n",
        "    labels = torch.cat(labels, dim=0)\n",
        "\n",
        "    return features.numpy(), labels.numpy()"
      ],
      "metadata": {
        "id": "qpQu3uPVmZ_Y"
      },
      "execution_count": 8,
      "outputs": []
    },
    {
      "cell_type": "code",
      "source": [
        "def load_dataset(dataset_path, test_size=0.2, batch_size=32, random_state=42):\n",
        "    transform = transforms.Compose([\n",
        "        transforms.Resize((224, 224)),\n",
        "        transforms.ToTensor(),\n",
        "    ])\n",
        "\n",
        "    full_dataset = datasets.ImageFolder(root=dataset_path, transform=transform)\n",
        "    dataset_size = len(full_dataset)\n",
        "    indices = list(range(dataset_size))\n",
        "\n",
        "    train_indices, test_indices = train_test_split(indices, test_size=test_size, random_state=random_state, stratify=[full_dataset.imgs[i][1] for i in indices])\n",
        "\n",
        "    train_dataset = Subset(full_dataset, train_indices)\n",
        "    test_dataset = Subset(full_dataset, test_indices)\n",
        "\n",
        "    train_loader = DataLoader(train_dataset, batch_size=batch_size, shuffle=True)\n",
        "    test_loader = DataLoader(test_dataset, batch_size=batch_size, shuffle=False)\n",
        "\n",
        "    return train_loader, test_loader"
      ],
      "metadata": {
        "id": "c-sDaNnhI7pI"
      },
      "execution_count": 9,
      "outputs": []
    },
    {
      "cell_type": "code",
      "source": [
        "train, test = load_dataset(dataset_path, 0.2, 32, 42)"
      ],
      "metadata": {
        "id": "lYWKRKfDKZf6"
      },
      "execution_count": 12,
      "outputs": []
    },
    {
      "cell_type": "code",
      "source": [
        "stages = get_resnet_stages(\"resnet18-f37072fd.pth\")\n",
        "initial_features, initial_labels = extract_features(stages['initial'], train)\n",
        "print(initial_features.shape)"
      ],
      "metadata": {
        "colab": {
          "base_uri": "https://localhost:8080/"
        },
        "id": "X1oaa9KnLbOd",
        "outputId": "fdfe95de-32a9-4066-b435-3e52a7595653"
      },
      "execution_count": null,
      "outputs": [
        {
          "output_type": "stream",
          "name": "stdout",
          "text": [
            "Using device: cuda\n",
            "(484, 802816)\n"
          ]
        }
      ]
    },
    {
      "cell_type": "code",
      "source": [
        "initial_features_test, initial_labels_test = extract_features(stages['initial'], test)\n",
        "\n",
        "scaler = StandardScaler()\n",
        "X_train = scaler.fit_transform(initial_features)\n",
        "X_test = scaler.transform(initial_features_test)\n",
        "y_train = initial_labels\n",
        "y_test = initial_labels_test\n",
        "\n",
        "base_models = {\n",
        "    \"SVM\": SVC(probability=True, random_state=42),\n",
        "    \"DecisionTree\": DecisionTreeClassifier(random_state=42),\n",
        "    \"LogisticRegression\": LogisticRegression(max_iter=1000, random_state=42),\n",
        "    \"RandomForest\": RandomForestClassifier(n_estimators=100, random_state=42)\n",
        "}\n",
        "\n",
        "train_meta = []\n",
        "test_meta = []\n",
        "\n",
        "for name, model in base_models.items():\n",
        "    model.fit(X_train, y_train)\n",
        "    train_pred = model.predict_proba(X_train)\n",
        "    test_pred = model.predict_proba(X_test)\n",
        "    train_meta.append(train_pred)\n",
        "    test_meta.append(test_pred)\n",
        "\n",
        "X_train_meta = np.concatenate(train_meta, axis=1)\n",
        "X_test_meta = np.concatenate(test_meta, axis=1)\n",
        "\n",
        "meta_model = LogisticRegression(max_iter=1000, random_state=42)\n",
        "meta_model.fit(X_train_meta, y_train)\n",
        "\n",
        "y_pred = meta_model.predict(X_test_meta)\n",
        "acc = accuracy_score(y_test, y_pred)\n",
        "print(f\"Stacked Model Accuracy (Initial Features): {acc:.4f}\")"
      ],
      "metadata": {
        "colab": {
          "base_uri": "https://localhost:8080/"
        },
        "id": "kw_tr-StAmDL",
        "outputId": "2778eea9-ba13-428b-a27e-859d19c89e3e"
      },
      "execution_count": null,
      "outputs": [
        {
          "output_type": "stream",
          "name": "stdout",
          "text": [
            "Using device: cuda\n",
            "Stacked Model Accuracy (Initial Features): 0.6311\n"
          ]
        }
      ]
    },
    {
      "cell_type": "code",
      "source": [
        "joblib.dump(meta_model, 'meta_model_initial.pkl')"
      ],
      "metadata": {
        "colab": {
          "base_uri": "https://localhost:8080/"
        },
        "id": "sz6QefenlePR",
        "outputId": "20b341de-16cf-44a8-c659-4c017789c893"
      },
      "execution_count": null,
      "outputs": [
        {
          "output_type": "execute_result",
          "data": {
            "text/plain": [
              "['meta_model_initial.pkl']"
            ]
          },
          "metadata": {},
          "execution_count": 13
        }
      ]
    },
    {
      "cell_type": "code",
      "source": [
        "evaluate_model_performance(meta_model, X_test_meta, y_test, class_labels=None, title=\"Confusion Matrix\")"
      ],
      "metadata": {
        "colab": {
          "base_uri": "https://localhost:8080/",
          "height": 767
        },
        "id": "a8tFyXuXnfpz",
        "outputId": "581e139f-22f4-4bec-e646-041799b82611"
      },
      "execution_count": null,
      "outputs": [
        {
          "output_type": "stream",
          "name": "stdout",
          "text": [
            "Accuracy: 0.6311\n",
            "Precision: 0.6333\n",
            "Recall: 0.6311\n",
            "F1 Score: 0.6102\n",
            "\n",
            "Classification Report:\n",
            "\n",
            "              precision    recall  f1-score   support\n",
            "\n",
            "           0       0.53      0.70      0.60        40\n",
            "           1       0.62      0.32      0.42        41\n",
            "           2       0.75      0.88      0.81        41\n",
            "\n",
            "    accuracy                           0.63       122\n",
            "   macro avg       0.63      0.63      0.61       122\n",
            "weighted avg       0.63      0.63      0.61       122\n",
            "\n"
          ]
        },
        {
          "output_type": "display_data",
          "data": {
            "text/plain": [
              "<Figure size 640x480 with 2 Axes>"
            ],
            "image/png": "[encoded data removed]"
          },
          "metadata": {}
        }
      ]
    },
    {
      "cell_type": "code",
      "source": [
        "stages = get_resnet_stages(\"resnet18-f37072fd.pth\")\n",
        "initial_features, initial_labels = extract_features(stages['mid'], train)\n",
        "print(initial_features.shape)\n",
        "initial_features_test, initial_labels_test = extract_features(stages['mid'], test)\n",
        "\n",
        "scaler = StandardScaler()\n",
        "X_train = scaler.fit_transform(initial_features)\n",
        "X_test = scaler.transform(initial_features_test)\n",
        "y_train = initial_labels\n",
        "y_test = initial_labels_test\n",
        "\n",
        "base_models = {\n",
        "    \"SVM\": SVC(probability=True, random_state=42),\n",
        "    \"DecisionTree\": DecisionTreeClassifier(random_state=42),\n",
        "    \"LogisticRegression\": LogisticRegression(max_iter=1000, random_state=42),\n",
        "    \"RandomForest\": RandomForestClassifier(n_estimators=100, random_state=42)\n",
        "}\n",
        "\n",
        "train_meta = []\n",
        "test_meta = []\n",
        "\n",
        "for name, model in base_models.items():\n",
        "    model.fit(X_train, y_train)\n",
        "    train_pred = model.predict_proba(X_train)\n",
        "    test_pred = model.predict_proba(X_test)\n",
        "    train_meta.append(train_pred)\n",
        "    test_meta.append(test_pred)\n",
        "\n",
        "X_train_meta = np.concatenate(train_meta, axis=1)\n",
        "X_test_meta = np.concatenate(test_meta, axis=1)\n",
        "\n",
        "meta_model = LogisticRegression(max_iter=1000, random_state=42)\n",
        "meta_model.fit(X_train_meta, y_train)\n",
        "\n",
        "y_pred = meta_model.predict(X_test_meta)\n",
        "acc = accuracy_score(y_test, y_pred)\n",
        "print(f\"Stacked Model Accuracy (Mid Features): {acc:.4f}\")"
      ],
      "metadata": {
        "colab": {
          "base_uri": "https://localhost:8080/"
        },
        "id": "qlGr91jCnyLO",
        "outputId": "635691d0-5391-417d-a0a0-3dcabb639df4"
      },
      "execution_count": null,
      "outputs": [
        {
          "output_type": "stream",
          "name": "stdout",
          "text": [
            "Using device: cuda\n",
            "(484, 100352)\n",
            "Using device: cuda\n",
            "Stacked Model Accuracy (Mid Features): 0.7951\n"
          ]
        }
      ]
    },
    {
      "cell_type": "code",
      "source": [
        "joblib.dump(meta_model, 'meta_model_mid.pkl')"
      ],
      "metadata": {
        "colab": {
          "base_uri": "https://localhost:8080/"
        },
        "id": "s1gn5p6apR6Z",
        "outputId": "21deea3e-aa17-483c-dffb-b154b7ccd456"
      },
      "execution_count": null,
      "outputs": [
        {
          "output_type": "execute_result",
          "data": {
            "text/plain": [
              "['meta_model_mid.pkl']"
            ]
          },
          "metadata": {},
          "execution_count": 20
        }
      ]
    },
    {
      "cell_type": "code",
      "source": [
        "evaluate_model_performance(meta_model, X_test_meta, y_test, class_labels=None, title=\"Confusion Matrix\")"
      ],
      "metadata": {
        "colab": {
          "base_uri": "https://localhost:8080/",
          "height": 767
        },
        "id": "Lo0fmVkgpf_6",
        "outputId": "191466a1-c32a-48cf-b790-074459fd7e18"
      },
      "execution_count": null,
      "outputs": [
        {
          "output_type": "stream",
          "name": "stdout",
          "text": [
            "Accuracy: 0.7951\n",
            "Precision: 0.7975\n",
            "Recall: 0.7951\n",
            "F1 Score: 0.7925\n",
            "\n",
            "Classification Report:\n",
            "\n",
            "              precision    recall  f1-score   support\n",
            "\n",
            "           0       0.72      0.85      0.78        40\n",
            "           1       0.76      0.63      0.69        41\n",
            "           2       0.90      0.90      0.90        41\n",
            "\n",
            "    accuracy                           0.80       122\n",
            "   macro avg       0.80      0.80      0.79       122\n",
            "weighted avg       0.80      0.80      0.79       122\n",
            "\n"
          ]
        },
        {
          "output_type": "display_data",
          "data": {
            "text/plain": [
              "<Figure size 640x480 with 2 Axes>"
            ],
            "image/png": "[encoded data removed]"
          },
          "metadata": {}
        }
      ]
    },
    {
      "cell_type": "code",
      "source": [
        "stages = get_resnet_stages(\"resnet18-f37072fd.pth\")\n",
        "initial_features, initial_labels = extract_features(stages['high'], train)\n",
        "print(initial_features.shape)\n",
        "initial_features_test, initial_labels_test = extract_features(stages['high'], test)\n",
        "\n",
        "scaler = StandardScaler()\n",
        "X_train = scaler.fit_transform(initial_features)\n",
        "X_test = scaler.transform(initial_features_test)\n",
        "y_train = initial_labels\n",
        "y_test = initial_labels_test\n",
        "\n",
        "base_models = {\n",
        "    \"SVM\": SVC(probability=True, random_state=42),\n",
        "    \"DecisionTree\": DecisionTreeClassifier(random_state=42),\n",
        "    \"LogisticRegression\": LogisticRegression(max_iter=1000, random_state=42),\n",
        "    \"RandomForest\": RandomForestClassifier(n_estimators=100, random_state=42)\n",
        "}\n",
        "\n",
        "train_meta = []\n",
        "test_meta = []\n",
        "\n",
        "for name, model in base_models.items():\n",
        "    model.fit(X_train, y_train)\n",
        "    train_pred = model.predict_proba(X_train)\n",
        "    test_pred = model.predict_proba(X_test)\n",
        "    train_meta.append(train_pred)\n",
        "    test_meta.append(test_pred)\n",
        "\n",
        "X_train_meta = np.concatenate(train_meta, axis=1)\n",
        "X_test_meta = np.concatenate(test_meta, axis=1)\n",
        "\n",
        "meta_model = LogisticRegression(max_iter=1000, random_state=42)\n",
        "meta_model.fit(X_train_meta, y_train)\n",
        "\n",
        "y_pred = meta_model.predict(X_test_meta)\n",
        "acc = accuracy_score(y_test, y_pred)\n",
        "print(f\"Stacked Model Accuracy (Mid Features): {acc:.4f}\")"
      ],
      "metadata": {
        "colab": {
          "base_uri": "https://localhost:8080/"
        },
        "id": "OdYELs5Nppww",
        "outputId": "e328b7ab-266c-44e3-8ee0-e4ba4cbe341f"
      },
      "execution_count": null,
      "outputs": [
        {
          "output_type": "stream",
          "name": "stdout",
          "text": [
            "Using device: cuda\n",
            "(484, 512)\n",
            "Using device: cuda\n",
            "Stacked Model Accuracy (Mid Features): 0.9508\n"
          ]
        }
      ]
    },
    {
      "cell_type": "code",
      "source": [
        "joblib.dump(meta_model, 'meta_model_high.pkl')"
      ],
      "metadata": {
        "colab": {
          "base_uri": "https://localhost:8080/"
        },
        "id": "GMV_kPBsp0mh",
        "outputId": "b62563c1-140d-49dd-f750-3e3470e35395"
      },
      "execution_count": null,
      "outputs": [
        {
          "output_type": "execute_result",
          "data": {
            "text/plain": [
              "['meta_model_high.pkl']"
            ]
          },
          "metadata": {},
          "execution_count": 23
        }
      ]
    },
    {
      "cell_type": "code",
      "source": [
        "evaluate_model_performance(meta_model, X_test_meta, y_test, class_labels=None, title=\"Confusion Matrix\")"
      ],
      "metadata": {
        "colab": {
          "base_uri": "https://localhost:8080/",
          "height": 767
        },
        "id": "6negkRJKp51Z",
        "outputId": "482e78ad-22f5-4008-bc39-5e8fef78ef3d"
      },
      "execution_count": null,
      "outputs": [
        {
          "output_type": "stream",
          "name": "stdout",
          "text": [
            "Accuracy: 0.9508\n",
            "Precision: 0.9508\n",
            "Recall: 0.9508\n",
            "F1 Score: 0.9508\n",
            "\n",
            "Classification Report:\n",
            "\n",
            "              precision    recall  f1-score   support\n",
            "\n",
            "           0       0.93      0.93      0.93        40\n",
            "           1       0.93      0.93      0.93        41\n",
            "           2       1.00      1.00      1.00        41\n",
            "\n",
            "    accuracy                           0.95       122\n",
            "   macro avg       0.95      0.95      0.95       122\n",
            "weighted avg       0.95      0.95      0.95       122\n",
            "\n"
          ]
        },
        {
          "output_type": "display_data",
          "data": {
            "text/plain": [
              "<Figure size 640x480 with 2 Axes>"
            ],
            "image/png": "[encoded data removed]"
          },
          "metadata": {}
        }
      ]
    },
    {
      "cell_type": "code",
      "source": [
        "stages = get_resnet_stages(\"resnet18-f37072fd.pth\")\n",
        "high_features, high_labels = extract_features(stages['high'], train)\n",
        "print(high_features.shape)\n",
        "high_features_test, high_labels_test = extract_features(stages['high'], test)\n",
        "\n",
        "scaler = StandardScaler()\n",
        "X_train = scaler.fit_transform(high_features)\n",
        "X_test = scaler.transform(high_features_test)\n",
        "y_train = high_labels\n",
        "y_test = high_labels_test\n",
        "scaler = StandardScaler()\n",
        "X_train = scaler.fit_transform(high_features)\n",
        "X_test = scaler.transform(high_features_test)\n",
        "\n",
        "meta_model, y_pred = right_way_stacking(X_train, high_labels, X_test, high_labels_test)\n"
      ],
      "metadata": {
        "colab": {
          "base_uri": "https://localhost:8080/"
        },
        "id": "Qew1JD1UqCZr",
        "outputId": "dbde25ad-ae1e-4a2d-d13e-0d18972bb93a"
      },
      "execution_count": null,
      "outputs": [
        {
          "output_type": "stream",
          "name": "stdout",
          "text": [
            "Using device: cuda\n",
            "(484, 512)\n",
            "Using device: cuda\n",
            "Stacked Model Accuracy (Right Way): 0.9590\n"
          ]
        }
      ]
    },
    {
      "cell_type": "code",
      "source": [
        "joblib.dump(meta_model, 'meta_model_high_OP.pkl')"
      ],
      "metadata": {
        "colab": {
          "base_uri": "https://localhost:8080/"
        },
        "id": "hTqI7q_nrulv",
        "outputId": "df31efda-fe97-48c2-aad6-2080329ce2c5"
      },
      "execution_count": null,
      "outputs": [
        {
          "output_type": "execute_result",
          "data": {
            "text/plain": [
              "['meta_model_high_OP.pkl']"
            ]
          },
          "metadata": {},
          "execution_count": 27
        }
      ]
    },
    {
      "cell_type": "code",
      "source": [
        "evaluate_model_performance(meta_model, X_test_meta, y_test, class_labels=None, title=\"Confusion Matrix\")"
      ],
      "metadata": {
        "colab": {
          "base_uri": "https://localhost:8080/",
          "height": 767
        },
        "id": "Imv2C5aarzaq",
        "outputId": "c860fde0-233c-46b7-8f01-944be8ea8e1e"
      },
      "execution_count": null,
      "outputs": [
        {
          "output_type": "stream",
          "name": "stdout",
          "text": [
            "Accuracy: 0.9590\n",
            "Precision: 0.9606\n",
            "Recall: 0.9590\n",
            "F1 Score: 0.9589\n",
            "\n",
            "Classification Report:\n",
            "\n",
            "              precision    recall  f1-score   support\n",
            "\n",
            "           0       0.97      0.90      0.94        40\n",
            "           1       0.91      0.98      0.94        41\n",
            "           2       1.00      1.00      1.00        41\n",
            "\n",
            "    accuracy                           0.96       122\n",
            "   macro avg       0.96      0.96      0.96       122\n",
            "weighted avg       0.96      0.96      0.96       122\n",
            "\n"
          ]
        },
        {
          "output_type": "display_data",
          "data": {
            "text/plain": [
              "<Figure size 640x480 with 2 Axes>"
            ],
            "image/png": "[encoded data removed]"
          },
          "metadata": {}
        }
      ]
    },
    {
      "cell_type": "code",
      "source": [
        "stages = get_resnet_stages(\"resnet18-f37072fd.pth\")\n",
        "high_features, high_labels = extract_features(stages['mid'], train)\n",
        "print(high_features.shape)\n",
        "high_features_test, high_labels_test = extract_features(stages['mid'], test)\n",
        "\n",
        "scaler = StandardScaler()\n",
        "X_train = scaler.fit_transform(high_features)\n",
        "X_test = scaler.transform(high_features_test)\n",
        "y_train = high_labels\n",
        "y_test = high_labels_test\n",
        "scaler = StandardScaler()\n",
        "X_train = scaler.fit_transform(high_features)\n",
        "X_test = scaler.transform(high_features_test)\n",
        "\n",
        "meta_model, y_pred ,X_test_meta= right_way_stacking(X_train, high_labels, X_test, high_labels_test)\n"
      ],
      "metadata": {
        "colab": {
          "base_uri": "https://localhost:8080/"
        },
        "id": "VTSkNMHgr841",
        "outputId": "32b20e9c-66c2-45d2-cd14-f86b701933a4"
      },
      "execution_count": 13,
      "outputs": [
        {
          "output_type": "stream",
          "name": "stdout",
          "text": [
            "Using device: cuda\n",
            "(484, 100352)\n",
            "Using device: cuda\n",
            "Stacked Model Accuracy (Right Way): 0.7787\n"
          ]
        }
      ]
    },
    {
      "cell_type": "code",
      "source": [
        "joblib.dump(meta_model, 'meta_model_mid_OP.pkl')"
      ],
      "metadata": {
        "colab": {
          "base_uri": "https://localhost:8080/"
        },
        "id": "5khNDoacuDwJ",
        "outputId": "e0217053-3149-473a-ac5d-511cba538f43"
      },
      "execution_count": 14,
      "outputs": [
        {
          "output_type": "execute_result",
          "data": {
            "text/plain": [
              "['meta_model_mid_OP.pkl']"
            ]
          },
          "metadata": {},
          "execution_count": 14
        }
      ]
    },
    {
      "cell_type": "code",
      "source": [
        "evaluate_model_performance(meta_model, X_test_meta, y_test, class_labels=None, title=\"Confusion Matrix\")"
      ],
      "metadata": {
        "colab": {
          "base_uri": "https://localhost:8080/",
          "height": 767
        },
        "id": "ZNKivA5MvjLR",
        "outputId": "3be2faef-0393-4b24-e946-3f29bf5d39a3"
      },
      "execution_count": 15,
      "outputs": [
        {
          "output_type": "stream",
          "name": "stdout",
          "text": [
            "Accuracy: 0.7787\n",
            "Precision: 0.7818\n",
            "Recall: 0.7787\n",
            "F1 Score: 0.7797\n",
            "\n",
            "Classification Report:\n",
            "\n",
            "              precision    recall  f1-score   support\n",
            "\n",
            "           0       0.72      0.78      0.75        40\n",
            "           1       0.70      0.68      0.69        41\n",
            "           2       0.92      0.88      0.90        41\n",
            "\n",
            "    accuracy                           0.78       122\n",
            "   macro avg       0.78      0.78      0.78       122\n",
            "weighted avg       0.78      0.78      0.78       122\n",
            "\n"
          ]
        },
        {
          "output_type": "display_data",
          "data": {
            "text/plain": [
              "<Figure size 640x480 with 2 Axes>"
            ],
            "image/png": "[encoded data removed]"
          },
          "metadata": {}
        }
      ]
    }
  ]
}